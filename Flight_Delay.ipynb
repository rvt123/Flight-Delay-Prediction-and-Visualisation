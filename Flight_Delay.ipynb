{
 "cells": [
  {
   "cell_type": "code",
   "execution_count": 1,
   "metadata": {},
   "outputs": [],
   "source": [
    "import pandas as pd\n",
    "import numpy as np\n",
    "import seaborn as sns\n",
    "import Pythoncf as pcf\n",
    "from scipy import stats"
   ]
  },
  {
   "cell_type": "code",
   "execution_count": 2,
   "metadata": {
    "scrolled": true
   },
   "outputs": [
    {
     "name": "stderr",
     "output_type": "stream",
     "text": [
      "C:\\Users\\raghu\\Anaconda3\\lib\\site-packages\\IPython\\core\\interactiveshell.py:2785: DtypeWarning: Columns (7,8) have mixed types. Specify dtype option on import or set low_memory=False.\n",
      "  interactivity=interactivity, compiler=compiler, result=result)\n"
     ]
    }
   ],
   "source": [
    "train=pd.read_csv(\"C://Users//raghu//Desktop//flight-delays//flights.csv\")"
   ]
  },
  {
   "cell_type": "code",
   "execution_count": 3,
   "metadata": {},
   "outputs": [],
   "source": [
    "## High Number of Missing \n",
    "train.drop(['CANCELLATION_REASON','AIR_SYSTEM_DELAY', 'SECURITY_DELAY', 'AIRLINE_DELAY',\n",
    "            'LATE_AIRCRAFT_DELAY', 'WEATHER_DELAY','YEAR','TAIL_NUMBER'],axis=1,inplace=True)"
   ]
  },
  {
   "cell_type": "code",
   "execution_count": 4,
   "metadata": {},
   "outputs": [
    {
     "data": {
      "text/html": [
       "<div>\n",
       "<style scoped>\n",
       "    .dataframe tbody tr th:only-of-type {\n",
       "        vertical-align: middle;\n",
       "    }\n",
       "\n",
       "    .dataframe tbody tr th {\n",
       "        vertical-align: top;\n",
       "    }\n",
       "\n",
       "    .dataframe thead th {\n",
       "        text-align: right;\n",
       "    }\n",
       "</style>\n",
       "<table border=\"1\" class=\"dataframe\">\n",
       "  <thead>\n",
       "    <tr style=\"text-align: right;\">\n",
       "      <th></th>\n",
       "      <th>MONTH</th>\n",
       "      <th>DAY</th>\n",
       "      <th>DAY_OF_WEEK</th>\n",
       "      <th>AIRLINE</th>\n",
       "      <th>ORIGIN_AIRPORT</th>\n",
       "      <th>DESTINATION_AIRPORT</th>\n",
       "      <th>SCHEDULED_DEPARTURE</th>\n",
       "      <th>DEPARTURE_TIME</th>\n",
       "      <th>DEPARTURE_DELAY</th>\n",
       "      <th>TAXI_OUT</th>\n",
       "      <th>...</th>\n",
       "      <th>ELAPSED_TIME</th>\n",
       "      <th>AIR_TIME</th>\n",
       "      <th>DISTANCE</th>\n",
       "      <th>WHEELS_ON</th>\n",
       "      <th>TAXI_IN</th>\n",
       "      <th>SCHEDULED_ARRIVAL</th>\n",
       "      <th>ARRIVAL_TIME</th>\n",
       "      <th>ARRIVAL_DELAY</th>\n",
       "      <th>DIVERTED</th>\n",
       "      <th>CANCELLED</th>\n",
       "    </tr>\n",
       "  </thead>\n",
       "  <tbody>\n",
       "    <tr>\n",
       "      <th>0</th>\n",
       "      <td>1</td>\n",
       "      <td>1</td>\n",
       "      <td>4</td>\n",
       "      <td>AS</td>\n",
       "      <td>ANC</td>\n",
       "      <td>SEA</td>\n",
       "      <td>5</td>\n",
       "      <td>2354.0</td>\n",
       "      <td>-11.0</td>\n",
       "      <td>21.0</td>\n",
       "      <td>...</td>\n",
       "      <td>194.0</td>\n",
       "      <td>169.0</td>\n",
       "      <td>1448</td>\n",
       "      <td>404.0</td>\n",
       "      <td>4.0</td>\n",
       "      <td>430</td>\n",
       "      <td>408.0</td>\n",
       "      <td>-22.0</td>\n",
       "      <td>0</td>\n",
       "      <td>0</td>\n",
       "    </tr>\n",
       "    <tr>\n",
       "      <th>1</th>\n",
       "      <td>1</td>\n",
       "      <td>1</td>\n",
       "      <td>4</td>\n",
       "      <td>AA</td>\n",
       "      <td>LAX</td>\n",
       "      <td>PBI</td>\n",
       "      <td>10</td>\n",
       "      <td>2.0</td>\n",
       "      <td>-8.0</td>\n",
       "      <td>12.0</td>\n",
       "      <td>...</td>\n",
       "      <td>279.0</td>\n",
       "      <td>263.0</td>\n",
       "      <td>2330</td>\n",
       "      <td>737.0</td>\n",
       "      <td>4.0</td>\n",
       "      <td>750</td>\n",
       "      <td>741.0</td>\n",
       "      <td>-9.0</td>\n",
       "      <td>0</td>\n",
       "      <td>0</td>\n",
       "    </tr>\n",
       "    <tr>\n",
       "      <th>2</th>\n",
       "      <td>1</td>\n",
       "      <td>1</td>\n",
       "      <td>4</td>\n",
       "      <td>US</td>\n",
       "      <td>SFO</td>\n",
       "      <td>CLT</td>\n",
       "      <td>20</td>\n",
       "      <td>18.0</td>\n",
       "      <td>-2.0</td>\n",
       "      <td>16.0</td>\n",
       "      <td>...</td>\n",
       "      <td>293.0</td>\n",
       "      <td>266.0</td>\n",
       "      <td>2296</td>\n",
       "      <td>800.0</td>\n",
       "      <td>11.0</td>\n",
       "      <td>806</td>\n",
       "      <td>811.0</td>\n",
       "      <td>5.0</td>\n",
       "      <td>0</td>\n",
       "      <td>0</td>\n",
       "    </tr>\n",
       "    <tr>\n",
       "      <th>3</th>\n",
       "      <td>1</td>\n",
       "      <td>1</td>\n",
       "      <td>4</td>\n",
       "      <td>AA</td>\n",
       "      <td>LAX</td>\n",
       "      <td>MIA</td>\n",
       "      <td>20</td>\n",
       "      <td>15.0</td>\n",
       "      <td>-5.0</td>\n",
       "      <td>15.0</td>\n",
       "      <td>...</td>\n",
       "      <td>281.0</td>\n",
       "      <td>258.0</td>\n",
       "      <td>2342</td>\n",
       "      <td>748.0</td>\n",
       "      <td>8.0</td>\n",
       "      <td>805</td>\n",
       "      <td>756.0</td>\n",
       "      <td>-9.0</td>\n",
       "      <td>0</td>\n",
       "      <td>0</td>\n",
       "    </tr>\n",
       "    <tr>\n",
       "      <th>4</th>\n",
       "      <td>1</td>\n",
       "      <td>1</td>\n",
       "      <td>4</td>\n",
       "      <td>AS</td>\n",
       "      <td>SEA</td>\n",
       "      <td>ANC</td>\n",
       "      <td>25</td>\n",
       "      <td>24.0</td>\n",
       "      <td>-1.0</td>\n",
       "      <td>11.0</td>\n",
       "      <td>...</td>\n",
       "      <td>215.0</td>\n",
       "      <td>199.0</td>\n",
       "      <td>1448</td>\n",
       "      <td>254.0</td>\n",
       "      <td>5.0</td>\n",
       "      <td>320</td>\n",
       "      <td>259.0</td>\n",
       "      <td>-21.0</td>\n",
       "      <td>0</td>\n",
       "      <td>0</td>\n",
       "    </tr>\n",
       "  </tbody>\n",
       "</table>\n",
       "<p>5 rows × 22 columns</p>\n",
       "</div>"
      ],
      "text/plain": [
       "   MONTH  DAY  DAY_OF_WEEK AIRLINE ORIGIN_AIRPORT DESTINATION_AIRPORT  \\\n",
       "0      1    1            4      AS            ANC                 SEA   \n",
       "1      1    1            4      AA            LAX                 PBI   \n",
       "2      1    1            4      US            SFO                 CLT   \n",
       "3      1    1            4      AA            LAX                 MIA   \n",
       "4      1    1            4      AS            SEA                 ANC   \n",
       "\n",
       "   SCHEDULED_DEPARTURE  DEPARTURE_TIME  DEPARTURE_DELAY  TAXI_OUT    ...      \\\n",
       "0                    5          2354.0            -11.0      21.0    ...       \n",
       "1                   10             2.0             -8.0      12.0    ...       \n",
       "2                   20            18.0             -2.0      16.0    ...       \n",
       "3                   20            15.0             -5.0      15.0    ...       \n",
       "4                   25            24.0             -1.0      11.0    ...       \n",
       "\n",
       "   ELAPSED_TIME  AIR_TIME  DISTANCE  WHEELS_ON  TAXI_IN  SCHEDULED_ARRIVAL  \\\n",
       "0         194.0     169.0      1448      404.0      4.0                430   \n",
       "1         279.0     263.0      2330      737.0      4.0                750   \n",
       "2         293.0     266.0      2296      800.0     11.0                806   \n",
       "3         281.0     258.0      2342      748.0      8.0                805   \n",
       "4         215.0     199.0      1448      254.0      5.0                320   \n",
       "\n",
       "   ARRIVAL_TIME  ARRIVAL_DELAY  DIVERTED  CANCELLED  \n",
       "0         408.0          -22.0         0          0  \n",
       "1         741.0           -9.0         0          0  \n",
       "2         811.0            5.0         0          0  \n",
       "3         756.0           -9.0         0          0  \n",
       "4         259.0          -21.0         0          0  \n",
       "\n",
       "[5 rows x 22 columns]"
      ]
     },
     "execution_count": 4,
     "metadata": {},
     "output_type": "execute_result"
    }
   ],
   "source": [
    "train.head()"
   ]
  },
  {
   "cell_type": "code",
   "execution_count": 5,
   "metadata": {
    "scrolled": true
   },
   "outputs": [
    {
     "data": {
      "text/plain": [
       "Index(['MONTH', 'DAY', 'DAY_OF_WEEK', 'AIRLINE', 'ORIGIN_AIRPORT',\n",
       "       'DESTINATION_AIRPORT', 'SCHEDULED_DEPARTURE', 'DEPARTURE_TIME',\n",
       "       'DEPARTURE_DELAY', 'TAXI_OUT', 'WHEELS_OFF', 'SCHEDULED_TIME',\n",
       "       'ELAPSED_TIME', 'AIR_TIME', 'DISTANCE', 'WHEELS_ON', 'TAXI_IN',\n",
       "       'SCHEDULED_ARRIVAL', 'ARRIVAL_TIME', 'ARRIVAL_DELAY', 'DIVERTED',\n",
       "       'CANCELLED'],\n",
       "      dtype='object')"
      ]
     },
     "execution_count": 5,
     "metadata": {},
     "output_type": "execute_result"
    }
   ],
   "source": [
    "train.columns"
   ]
  },
  {
   "cell_type": "code",
   "execution_count": 6,
   "metadata": {},
   "outputs": [],
   "source": [
    "train['ORIGIN_AIRPORT']=train['ORIGIN_AIRPORT'].astype('str')\n",
    "train['ORIGIN_AIRPORT'].replace(to_replace=list(train['ORIGIN_AIRPORT'].value_counts()[train['ORIGIN_AIRPORT'].value_counts()<1470].index), value=np.NaN, inplace=True)\n",
    "train=pcf.replace_category10(train,'ORIGIN_AIRPORT','ATL','ORD','DFW','DEN','LAX','SFO','PHX','IAH','LAS','MSP')"
   ]
  },
  {
   "cell_type": "code",
   "execution_count": 8,
   "metadata": {
    "scrolled": true
   },
   "outputs": [],
   "source": [
    "train['DESTINATION_AIRPORT']=train['DESTINATION_AIRPORT'].astype('str')\n",
    "train['DESTINATION_AIRPORT'].replace(to_replace=list(train['DESTINATION_AIRPORT'].value_counts()[train['DESTINATION_AIRPORT'].value_counts()<1500].index), value=np.NaN, inplace=True)\n",
    "train=pcf.replace_category10(train,'DESTINATION_AIRPORT','ATL','ORD','DFW','DEN','LAX','SFO','PHX','IAH','LAS','MSP')\n",
    "train['DESTINATION_AIRPORT']=train['DESTINATION_AIRPORT'].fillna(train['DESTINATION_AIRPORT'].mode()[0])"
   ]
  },
  {
   "cell_type": "code",
   "execution_count": 9,
   "metadata": {},
   "outputs": [
    {
     "name": "stdout",
     "output_type": "stream",
     "text": [
      "1\n",
      "2\n"
     ]
    }
   ],
   "source": [
    "train['DEPARTURE_TIME']=train['DEPARTURE_TIME'].fillna(9999)\n",
    "train['ARRIVAL_TIME']=train['ARRIVAL_TIME'].fillna(9999)\n",
    "train['WHEELS_OFF']=train['WHEELS_OFF'].fillna(9999)\n",
    "train['WHEELS_ON']=train['WHEELS_ON'].fillna(9999)\n",
    "print(1)\n",
    "\n",
    "for var in ['SCHEDULED_DEPARTURE','DEPARTURE_TIME','SCHEDULED_ARRIVAL','ARRIVAL_TIME','WHEELS_OFF','WHEELS_ON']:\n",
    "    train[var]=train[var].dropna().astype('int').astype('str')\n",
    "    train[var]=train[var].apply(lambda x:x.rjust(4,'0'))\n",
    "    train[var+\"_hour\"]=train[var].apply( lambda x: x[0:2]).astype('int')\n",
    "    train[var+\"_mins\"]=train[var].apply( lambda x: x[2:4]).astype('int')\n",
    "print(2) "
   ]
  },
  {
   "cell_type": "code",
   "execution_count": 13,
   "metadata": {},
   "outputs": [],
   "source": [
    "train.to_csv('train_new.csv')"
   ]
  },
  {
   "cell_type": "code",
   "execution_count": 14,
   "metadata": {},
   "outputs": [
    {
     "name": "stdout",
     "output_type": "stream",
     "text": [
      "3\n",
      "4\n",
      "5\n",
      "6\n",
      "7\n",
      "8\n",
      "9\n",
      "10\n",
      "11\n"
     ]
    }
   ],
   "source": [
    "train['WHEELS_OFF_mins'].replace(to_replace=99, value=np.NaN, inplace=True)\n",
    "train=pcf.replace_category10(train,'WHEELS_OFF_mins',10,9,8,11,12,13,7,14,15,6)\n",
    "print(3)\n",
    "\n",
    "train['WHEELS_ON_hour'].replace(to_replace=99, value=np.NaN, inplace=True)\n",
    "train=pcf.replace_category10(train,'WHEELS_ON_hour',16,18,20,17,14,12,13,19,10,11)\n",
    "print(4)\n",
    "\n",
    "train['WHEELS_ON_mins'].replace(to_replace=99, value=np.NaN, inplace=True)\n",
    "train=pcf.replace_category10(train,'WHEELS_ON_mins',45,40,50,53,47,49,41,48,44,42)\n",
    "print(5)\n",
    "\n",
    "train['WHEELS_OFF_hour'].replace(to_replace=99, value=np.NaN, inplace=True)\n",
    "train=pcf.replace_category10(train,'WHEELS_OFF_hour',7,10,6,17,11,15,8,12,9,14) \n",
    "print(6)\n",
    "\n",
    "train['ARRIVAL_TIME_hour'].replace(to_replace=99, value=np.NaN, inplace=True)\n",
    "train=pcf.replace_category10(train,'ARRIVAL_TIME_hour',16,18,20,14,17,19,11,12,10,13)\n",
    "print(7)\n",
    "\n",
    "train['ARRIVAL_TIME_mins'].replace(to_replace=99, value=np.NaN, inplace=True)\n",
    "train=pcf.replace_category10(train,'ARRIVAL_TIME_mins',55,50,51,45,49,52,0,53,54,5)\n",
    "print(8)\n",
    "\n",
    "train['DEPARTURE_TIME_hour'].replace(to_replace=99, value=np.NaN, inplace=True)\n",
    "train=pcf.replace_category10(train,'DEPARTURE_TIME_hour',17,6,10,8,7,15,11,13,12,9)\n",
    "print(9)\n",
    "\n",
    "train['DEPARTURE_TIME_mins'].replace(to_replace=99, value=np.NaN, inplace=True)\n",
    "train=pcf.replace_category10(train,'DEPARTURE_TIME_mins',55,56,57,58,0,54,59,53,25,50)\n",
    "print(10)\n",
    "\n",
    "for var in ['SCHEDULED_DEPARTURE','DEPARTURE_TIME','SCHEDULED_ARRIVAL','ARRIVAL_TIME','WHEELS_OFF','WHEELS_ON']:\n",
    "    train[var+\"_Abstime\"]=(train[var+\"_hour\"]*60)+train[var+\"_mins\"] \n",
    "print(11)"
   ]
  },
  {
   "cell_type": "code",
   "execution_count": 15,
   "metadata": {},
   "outputs": [],
   "source": [
    "train.drop(['SCHEDULED_DEPARTURE','DEPARTURE_TIME','SCHEDULED_ARRIVAL','ARRIVAL_TIME','WHEELS_OFF','WHEELS_ON'],axis=1,inplace=True)"
   ]
  },
  {
   "cell_type": "code",
   "execution_count": 16,
   "metadata": {},
   "outputs": [],
   "source": [
    "train.to_csv('train_new.csv')"
   ]
  },
  {
   "cell_type": "code",
   "execution_count": 60,
   "metadata": {},
   "outputs": [],
   "source": [
    "train=pd.read_csv(\"train_new.csv\")"
   ]
  },
  {
   "cell_type": "code",
   "execution_count": 61,
   "metadata": {},
   "outputs": [
    {
     "name": "stdout",
     "output_type": "stream",
     "text": [
      "1\n",
      "2\n",
      "3\n",
      "4\n",
      "5\n",
      "6\n",
      "7\n",
      "8\n"
     ]
    }
   ],
   "source": [
    "train['SCHEDULED_TIME'].replace(to_replace=list(train['SCHEDULED_TIME'].value_counts()[train['SCHEDULED_TIME'].value_counts()<2000].index), value=np.NaN, inplace=True)\n",
    "train=pcf.replace_category10(train,'SCHEDULED_TIME',85.0,80.0,75.0,90.0,70.0,65.0,95.0,110.0,115.0,100.0)\n",
    "print(1)\n",
    "\n",
    "train['DEPARTURE_DELAY'].replace(to_replace=list(train['DEPARTURE_DELAY'].value_counts()[train['DEPARTURE_DELAY'].value_counts()<1300].index), value=np.NaN, inplace=True)\n",
    "train=pcf.replace_category10(train,'DEPARTURE_DELAY',-3.0,-4.0,-5.0,-2.0,-1.0,0.0,-6.0,-7.0,-8.0,1.0)\n",
    "print(2)\n",
    "\n",
    "train['TAXI_OUT'].replace(to_replace=list(train['TAXI_OUT'].value_counts()[train['TAXI_OUT'].value_counts()<6000].index), value=np.NaN, inplace=True)\n",
    "train=pcf.replace_category10(train,'TAXI_OUT',12.0,11.0,13.0,10.0,14.0,9.0,15.0,16.0,17.0,8.0)\n",
    "print(3)\n",
    "\n",
    "train['ELAPSED_TIME'].replace(to_replace=list(train['ELAPSED_TIME'].value_counts()[train['ELAPSED_TIME'].value_counts()<1800].index), value=np.NaN, inplace=True)\n",
    "train=pcf.replace_category10(train,'ELAPSED_TIME',80.0,79.0,81.0,82.0,78.0,77.0,76.0,83.0,84.0,75.0)\n",
    "print(4)\n",
    "\n",
    "train['AIR_TIME'].replace(to_replace=list(train['AIR_TIME'].value_counts()[train['AIR_TIME'].value_counts()<2000].index), value=np.NaN, inplace=True)\n",
    "train=pcf.replace_category10(train,'AIR_TIME',64.0,63.0,62.0,65.0,61.0,43.0,60.0,59.0,66.0,44.0)\n",
    "print(5)\n",
    "\n",
    "train['DISTANCE']=train['DISTANCE'].clip_upper(train['DISTANCE'].quantile(.99))\n",
    "train['DISTANCE']=train['DISTANCE'].clip_lower(train['DISTANCE'].quantile(.01))\n",
    "r,t=stats.boxcox(train['DISTANCE'])\n",
    "train['DISTANCE']=stats.boxcox(train['DISTANCE'],t)\n",
    "print(6)\n",
    "\n",
    "train['TAXI_IN'].replace(to_replace=list(train['TAXI_IN'].value_counts()[train['TAXI_IN'].value_counts()<5500].index), value=np.NaN, inplace=True)\n",
    "train=pcf.replace_category10(train,'TAXI_IN',5.0,4.0,6.0,7.0,3.0,8.0,9.0,10.0,11.0,12.0)\n",
    "print(7)\n",
    "\n",
    "train['ARRIVAL_DELAY'].replace(to_replace=list(train['ARRIVAL_DELAY'].value_counts()[train['ARRIVAL_DELAY'].value_counts()<900].index), value=np.NaN, inplace=True)\n",
    "train=pcf.replace_category10(train,'ARRIVAL_DELAY',-8.0,-9.0,-10.0,-7.0,-11.0,-6.0,-12.0,-5.0,-13.0,-4.0)\n",
    "print(8)"
   ]
  },
  {
   "cell_type": "code",
   "execution_count": 74,
   "metadata": {},
   "outputs": [],
   "source": [
    "# train['DESTINATION_AIRPORT']=train['DESTINATION_AIRPORT'].fillna(train['DESTINATION_AIRPORT'].mode()[0])"
   ]
  },
  {
   "cell_type": "code",
   "execution_count": 8,
   "metadata": {},
   "outputs": [],
   "source": [
    "train.to_csv('train_new.csv',index=False)"
   ]
  },
  {
   "cell_type": "code",
   "execution_count": 2,
   "metadata": {},
   "outputs": [],
   "source": [
    "train=pd.read_csv('train_new.csv')"
   ]
  },
  {
   "cell_type": "code",
   "execution_count": 3,
   "metadata": {},
   "outputs": [
    {
     "data": {
      "text/html": [
       "<div>\n",
       "<style scoped>\n",
       "    .dataframe tbody tr th:only-of-type {\n",
       "        vertical-align: middle;\n",
       "    }\n",
       "\n",
       "    .dataframe tbody tr th {\n",
       "        vertical-align: top;\n",
       "    }\n",
       "\n",
       "    .dataframe thead th {\n",
       "        text-align: right;\n",
       "    }\n",
       "</style>\n",
       "<table border=\"1\" class=\"dataframe\">\n",
       "  <thead>\n",
       "    <tr style=\"text-align: right;\">\n",
       "      <th></th>\n",
       "      <th>MONTH</th>\n",
       "      <th>DAY</th>\n",
       "      <th>DAY_OF_WEEK</th>\n",
       "      <th>AIRLINE</th>\n",
       "      <th>ORIGIN_AIRPORT</th>\n",
       "      <th>DESTINATION_AIRPORT</th>\n",
       "      <th>DEPARTURE_DELAY</th>\n",
       "      <th>TAXI_OUT</th>\n",
       "      <th>SCHEDULED_TIME</th>\n",
       "      <th>ELAPSED_TIME</th>\n",
       "      <th>...</th>\n",
       "      <th>WHEELS_OFF_mins</th>\n",
       "      <th>WHEELS_ON_hour</th>\n",
       "      <th>WHEELS_ON_mins</th>\n",
       "      <th>SCHEDULED_DEPARTURE_Abstime</th>\n",
       "      <th>DEPARTURE_TIME_Abstime</th>\n",
       "      <th>SCHEDULED_ARRIVAL_Abstime</th>\n",
       "      <th>ARRIVAL_TIME_Abstime</th>\n",
       "      <th>WHEELS_OFF_Abstime</th>\n",
       "      <th>WHEELS_ON_Abstime</th>\n",
       "      <th>FLIGHT_NUMBER</th>\n",
       "    </tr>\n",
       "  </thead>\n",
       "  <tbody>\n",
       "    <tr>\n",
       "      <th>0</th>\n",
       "      <td>1</td>\n",
       "      <td>1</td>\n",
       "      <td>4</td>\n",
       "      <td>AS</td>\n",
       "      <td>ANC</td>\n",
       "      <td>SEA</td>\n",
       "      <td>-11.0</td>\n",
       "      <td>21.0</td>\n",
       "      <td>205.0</td>\n",
       "      <td>194.0</td>\n",
       "      <td>...</td>\n",
       "      <td>15.0</td>\n",
       "      <td>4.0</td>\n",
       "      <td>4.0</td>\n",
       "      <td>5</td>\n",
       "      <td>1434.0</td>\n",
       "      <td>270</td>\n",
       "      <td>248.0</td>\n",
       "      <td>15.0</td>\n",
       "      <td>244.0</td>\n",
       "      <td>98</td>\n",
       "    </tr>\n",
       "    <tr>\n",
       "      <th>1</th>\n",
       "      <td>1</td>\n",
       "      <td>1</td>\n",
       "      <td>4</td>\n",
       "      <td>AA</td>\n",
       "      <td>LAX</td>\n",
       "      <td>PBI</td>\n",
       "      <td>-8.0</td>\n",
       "      <td>12.0</td>\n",
       "      <td>280.0</td>\n",
       "      <td>279.0</td>\n",
       "      <td>...</td>\n",
       "      <td>14.0</td>\n",
       "      <td>7.0</td>\n",
       "      <td>37.0</td>\n",
       "      <td>10</td>\n",
       "      <td>2.0</td>\n",
       "      <td>470</td>\n",
       "      <td>461.0</td>\n",
       "      <td>14.0</td>\n",
       "      <td>457.0</td>\n",
       "      <td>2336</td>\n",
       "    </tr>\n",
       "    <tr>\n",
       "      <th>2</th>\n",
       "      <td>1</td>\n",
       "      <td>1</td>\n",
       "      <td>4</td>\n",
       "      <td>US</td>\n",
       "      <td>SFO</td>\n",
       "      <td>CLT</td>\n",
       "      <td>-2.0</td>\n",
       "      <td>16.0</td>\n",
       "      <td>286.0</td>\n",
       "      <td>293.0</td>\n",
       "      <td>...</td>\n",
       "      <td>34.0</td>\n",
       "      <td>8.0</td>\n",
       "      <td>0.0</td>\n",
       "      <td>20</td>\n",
       "      <td>18.0</td>\n",
       "      <td>486</td>\n",
       "      <td>491.0</td>\n",
       "      <td>34.0</td>\n",
       "      <td>480.0</td>\n",
       "      <td>840</td>\n",
       "    </tr>\n",
       "    <tr>\n",
       "      <th>3</th>\n",
       "      <td>1</td>\n",
       "      <td>1</td>\n",
       "      <td>4</td>\n",
       "      <td>AA</td>\n",
       "      <td>LAX</td>\n",
       "      <td>MIA</td>\n",
       "      <td>-5.0</td>\n",
       "      <td>15.0</td>\n",
       "      <td>285.0</td>\n",
       "      <td>281.0</td>\n",
       "      <td>...</td>\n",
       "      <td>30.0</td>\n",
       "      <td>7.0</td>\n",
       "      <td>48.0</td>\n",
       "      <td>20</td>\n",
       "      <td>15.0</td>\n",
       "      <td>485</td>\n",
       "      <td>476.0</td>\n",
       "      <td>30.0</td>\n",
       "      <td>468.0</td>\n",
       "      <td>258</td>\n",
       "    </tr>\n",
       "    <tr>\n",
       "      <th>4</th>\n",
       "      <td>1</td>\n",
       "      <td>1</td>\n",
       "      <td>4</td>\n",
       "      <td>AS</td>\n",
       "      <td>SEA</td>\n",
       "      <td>ANC</td>\n",
       "      <td>-1.0</td>\n",
       "      <td>11.0</td>\n",
       "      <td>235.0</td>\n",
       "      <td>215.0</td>\n",
       "      <td>...</td>\n",
       "      <td>35.0</td>\n",
       "      <td>2.0</td>\n",
       "      <td>54.0</td>\n",
       "      <td>25</td>\n",
       "      <td>24.0</td>\n",
       "      <td>200</td>\n",
       "      <td>179.0</td>\n",
       "      <td>35.0</td>\n",
       "      <td>174.0</td>\n",
       "      <td>135</td>\n",
       "    </tr>\n",
       "  </tbody>\n",
       "</table>\n",
       "<p>5 rows × 35 columns</p>\n",
       "</div>"
      ],
      "text/plain": [
       "   MONTH  DAY  DAY_OF_WEEK AIRLINE ORIGIN_AIRPORT DESTINATION_AIRPORT  \\\n",
       "0      1    1            4      AS            ANC                 SEA   \n",
       "1      1    1            4      AA            LAX                 PBI   \n",
       "2      1    1            4      US            SFO                 CLT   \n",
       "3      1    1            4      AA            LAX                 MIA   \n",
       "4      1    1            4      AS            SEA                 ANC   \n",
       "\n",
       "   DEPARTURE_DELAY  TAXI_OUT  SCHEDULED_TIME  ELAPSED_TIME      ...        \\\n",
       "0            -11.0      21.0           205.0         194.0      ...         \n",
       "1             -8.0      12.0           280.0         279.0      ...         \n",
       "2             -2.0      16.0           286.0         293.0      ...         \n",
       "3             -5.0      15.0           285.0         281.0      ...         \n",
       "4             -1.0      11.0           235.0         215.0      ...         \n",
       "\n",
       "   WHEELS_OFF_mins  WHEELS_ON_hour  WHEELS_ON_mins  \\\n",
       "0             15.0             4.0             4.0   \n",
       "1             14.0             7.0            37.0   \n",
       "2             34.0             8.0             0.0   \n",
       "3             30.0             7.0            48.0   \n",
       "4             35.0             2.0            54.0   \n",
       "\n",
       "   SCHEDULED_DEPARTURE_Abstime  DEPARTURE_TIME_Abstime  \\\n",
       "0                            5                  1434.0   \n",
       "1                           10                     2.0   \n",
       "2                           20                    18.0   \n",
       "3                           20                    15.0   \n",
       "4                           25                    24.0   \n",
       "\n",
       "   SCHEDULED_ARRIVAL_Abstime  ARRIVAL_TIME_Abstime  WHEELS_OFF_Abstime  \\\n",
       "0                        270                 248.0                15.0   \n",
       "1                        470                 461.0                14.0   \n",
       "2                        486                 491.0                34.0   \n",
       "3                        485                 476.0                30.0   \n",
       "4                        200                 179.0                35.0   \n",
       "\n",
       "   WHEELS_ON_Abstime  FLIGHT_NUMBER  \n",
       "0              244.0             98  \n",
       "1              457.0           2336  \n",
       "2              480.0            840  \n",
       "3              468.0            258  \n",
       "4              174.0            135  \n",
       "\n",
       "[5 rows x 35 columns]"
      ]
     },
     "execution_count": 3,
     "metadata": {},
     "output_type": "execute_result"
    }
   ],
   "source": [
    "train.head()"
   ]
  },
  {
   "cell_type": "code",
   "execution_count": 4,
   "metadata": {},
   "outputs": [],
   "source": [
    "from sklearn.preprocessing import LabelEncoder\n",
    "encoder=LabelEncoder()"
   ]
  },
  {
   "cell_type": "code",
   "execution_count": 5,
   "metadata": {},
   "outputs": [],
   "source": [
    "for var in ['AIRLINE','ORIGIN_AIRPORT','DESTINATION_AIRPORT']:\n",
    "    train[var]=encoder.fit_transform(list(train[var].values))    "
   ]
  },
  {
   "cell_type": "code",
   "execution_count": 6,
   "metadata": {},
   "outputs": [
    {
     "data": {
      "text/html": [
       "<div>\n",
       "<style scoped>\n",
       "    .dataframe tbody tr th:only-of-type {\n",
       "        vertical-align: middle;\n",
       "    }\n",
       "\n",
       "    .dataframe tbody tr th {\n",
       "        vertical-align: top;\n",
       "    }\n",
       "\n",
       "    .dataframe thead th {\n",
       "        text-align: right;\n",
       "    }\n",
       "</style>\n",
       "<table border=\"1\" class=\"dataframe\">\n",
       "  <thead>\n",
       "    <tr style=\"text-align: right;\">\n",
       "      <th></th>\n",
       "      <th>MONTH</th>\n",
       "      <th>DAY</th>\n",
       "      <th>DAY_OF_WEEK</th>\n",
       "      <th>AIRLINE</th>\n",
       "      <th>ORIGIN_AIRPORT</th>\n",
       "      <th>DESTINATION_AIRPORT</th>\n",
       "      <th>DEPARTURE_DELAY</th>\n",
       "      <th>TAXI_OUT</th>\n",
       "      <th>SCHEDULED_TIME</th>\n",
       "      <th>ELAPSED_TIME</th>\n",
       "      <th>...</th>\n",
       "      <th>WHEELS_OFF_mins</th>\n",
       "      <th>WHEELS_ON_hour</th>\n",
       "      <th>WHEELS_ON_mins</th>\n",
       "      <th>SCHEDULED_DEPARTURE_Abstime</th>\n",
       "      <th>DEPARTURE_TIME_Abstime</th>\n",
       "      <th>SCHEDULED_ARRIVAL_Abstime</th>\n",
       "      <th>ARRIVAL_TIME_Abstime</th>\n",
       "      <th>WHEELS_OFF_Abstime</th>\n",
       "      <th>WHEELS_ON_Abstime</th>\n",
       "      <th>FLIGHT_NUMBER</th>\n",
       "    </tr>\n",
       "  </thead>\n",
       "  <tbody>\n",
       "    <tr>\n",
       "      <th>0</th>\n",
       "      <td>1</td>\n",
       "      <td>1</td>\n",
       "      <td>4</td>\n",
       "      <td>1</td>\n",
       "      <td>72</td>\n",
       "      <td>242</td>\n",
       "      <td>-11.0</td>\n",
       "      <td>21.0</td>\n",
       "      <td>205.0</td>\n",
       "      <td>194.0</td>\n",
       "      <td>...</td>\n",
       "      <td>15.0</td>\n",
       "      <td>4.0</td>\n",
       "      <td>4.0</td>\n",
       "      <td>5</td>\n",
       "      <td>1434.0</td>\n",
       "      <td>270</td>\n",
       "      <td>248.0</td>\n",
       "      <td>15.0</td>\n",
       "      <td>244.0</td>\n",
       "      <td>98</td>\n",
       "    </tr>\n",
       "    <tr>\n",
       "      <th>1</th>\n",
       "      <td>1</td>\n",
       "      <td>1</td>\n",
       "      <td>4</td>\n",
       "      <td>0</td>\n",
       "      <td>172</td>\n",
       "      <td>214</td>\n",
       "      <td>-8.0</td>\n",
       "      <td>12.0</td>\n",
       "      <td>280.0</td>\n",
       "      <td>279.0</td>\n",
       "      <td>...</td>\n",
       "      <td>14.0</td>\n",
       "      <td>7.0</td>\n",
       "      <td>37.0</td>\n",
       "      <td>10</td>\n",
       "      <td>2.0</td>\n",
       "      <td>470</td>\n",
       "      <td>461.0</td>\n",
       "      <td>14.0</td>\n",
       "      <td>457.0</td>\n",
       "      <td>2336</td>\n",
       "    </tr>\n",
       "    <tr>\n",
       "      <th>2</th>\n",
       "      <td>1</td>\n",
       "      <td>1</td>\n",
       "      <td>4</td>\n",
       "      <td>11</td>\n",
       "      <td>244</td>\n",
       "      <td>103</td>\n",
       "      <td>-2.0</td>\n",
       "      <td>16.0</td>\n",
       "      <td>286.0</td>\n",
       "      <td>293.0</td>\n",
       "      <td>...</td>\n",
       "      <td>34.0</td>\n",
       "      <td>8.0</td>\n",
       "      <td>0.0</td>\n",
       "      <td>20</td>\n",
       "      <td>18.0</td>\n",
       "      <td>486</td>\n",
       "      <td>491.0</td>\n",
       "      <td>34.0</td>\n",
       "      <td>480.0</td>\n",
       "      <td>840</td>\n",
       "    </tr>\n",
       "    <tr>\n",
       "      <th>3</th>\n",
       "      <td>1</td>\n",
       "      <td>1</td>\n",
       "      <td>4</td>\n",
       "      <td>0</td>\n",
       "      <td>172</td>\n",
       "      <td>195</td>\n",
       "      <td>-5.0</td>\n",
       "      <td>15.0</td>\n",
       "      <td>285.0</td>\n",
       "      <td>281.0</td>\n",
       "      <td>...</td>\n",
       "      <td>30.0</td>\n",
       "      <td>7.0</td>\n",
       "      <td>48.0</td>\n",
       "      <td>20</td>\n",
       "      <td>15.0</td>\n",
       "      <td>485</td>\n",
       "      <td>476.0</td>\n",
       "      <td>30.0</td>\n",
       "      <td>468.0</td>\n",
       "      <td>258</td>\n",
       "    </tr>\n",
       "    <tr>\n",
       "      <th>4</th>\n",
       "      <td>1</td>\n",
       "      <td>1</td>\n",
       "      <td>4</td>\n",
       "      <td>1</td>\n",
       "      <td>243</td>\n",
       "      <td>72</td>\n",
       "      <td>-1.0</td>\n",
       "      <td>11.0</td>\n",
       "      <td>235.0</td>\n",
       "      <td>215.0</td>\n",
       "      <td>...</td>\n",
       "      <td>35.0</td>\n",
       "      <td>2.0</td>\n",
       "      <td>54.0</td>\n",
       "      <td>25</td>\n",
       "      <td>24.0</td>\n",
       "      <td>200</td>\n",
       "      <td>179.0</td>\n",
       "      <td>35.0</td>\n",
       "      <td>174.0</td>\n",
       "      <td>135</td>\n",
       "    </tr>\n",
       "  </tbody>\n",
       "</table>\n",
       "<p>5 rows × 35 columns</p>\n",
       "</div>"
      ],
      "text/plain": [
       "   MONTH  DAY  DAY_OF_WEEK  AIRLINE  ORIGIN_AIRPORT  DESTINATION_AIRPORT  \\\n",
       "0      1    1            4        1              72                  242   \n",
       "1      1    1            4        0             172                  214   \n",
       "2      1    1            4       11             244                  103   \n",
       "3      1    1            4        0             172                  195   \n",
       "4      1    1            4        1             243                   72   \n",
       "\n",
       "   DEPARTURE_DELAY  TAXI_OUT  SCHEDULED_TIME  ELAPSED_TIME      ...        \\\n",
       "0            -11.0      21.0           205.0         194.0      ...         \n",
       "1             -8.0      12.0           280.0         279.0      ...         \n",
       "2             -2.0      16.0           286.0         293.0      ...         \n",
       "3             -5.0      15.0           285.0         281.0      ...         \n",
       "4             -1.0      11.0           235.0         215.0      ...         \n",
       "\n",
       "   WHEELS_OFF_mins  WHEELS_ON_hour  WHEELS_ON_mins  \\\n",
       "0             15.0             4.0             4.0   \n",
       "1             14.0             7.0            37.0   \n",
       "2             34.0             8.0             0.0   \n",
       "3             30.0             7.0            48.0   \n",
       "4             35.0             2.0            54.0   \n",
       "\n",
       "   SCHEDULED_DEPARTURE_Abstime  DEPARTURE_TIME_Abstime  \\\n",
       "0                            5                  1434.0   \n",
       "1                           10                     2.0   \n",
       "2                           20                    18.0   \n",
       "3                           20                    15.0   \n",
       "4                           25                    24.0   \n",
       "\n",
       "   SCHEDULED_ARRIVAL_Abstime  ARRIVAL_TIME_Abstime  WHEELS_OFF_Abstime  \\\n",
       "0                        270                 248.0                15.0   \n",
       "1                        470                 461.0                14.0   \n",
       "2                        486                 491.0                34.0   \n",
       "3                        485                 476.0                30.0   \n",
       "4                        200                 179.0                35.0   \n",
       "\n",
       "   WHEELS_ON_Abstime  FLIGHT_NUMBER  \n",
       "0              244.0             98  \n",
       "1              457.0           2336  \n",
       "2              480.0            840  \n",
       "3              468.0            258  \n",
       "4              174.0            135  \n",
       "\n",
       "[5 rows x 35 columns]"
      ]
     },
     "execution_count": 6,
     "metadata": {},
     "output_type": "execute_result"
    }
   ],
   "source": [
    "train.head()"
   ]
  },
  {
   "cell_type": "code",
   "execution_count": 7,
   "metadata": {},
   "outputs": [
    {
     "data": {
      "text/plain": [
       "MONTH                            int64\n",
       "DAY                              int64\n",
       "DAY_OF_WEEK                      int64\n",
       "AIRLINE                          int64\n",
       "ORIGIN_AIRPORT                   int64\n",
       "DESTINATION_AIRPORT              int64\n",
       "DEPARTURE_DELAY                float64\n",
       "TAXI_OUT                       float64\n",
       "SCHEDULED_TIME                 float64\n",
       "ELAPSED_TIME                   float64\n",
       "AIR_TIME                       float64\n",
       "DISTANCE                       float64\n",
       "TAXI_IN                        float64\n",
       "ARRIVAL_DELAY                  float64\n",
       "DIVERTED                         int64\n",
       "CANCELLED                        int64\n",
       "SCHEDULED_DEPARTURE_hour         int64\n",
       "SCHEDULED_DEPARTURE_mins         int64\n",
       "DEPARTURE_TIME_hour            float64\n",
       "DEPARTURE_TIME_mins            float64\n",
       "SCHEDULED_ARRIVAL_hour           int64\n",
       "SCHEDULED_ARRIVAL_mins           int64\n",
       "ARRIVAL_TIME_hour              float64\n",
       "ARRIVAL_TIME_mins              float64\n",
       "WHEELS_OFF_hour                float64\n",
       "WHEELS_OFF_mins                float64\n",
       "WHEELS_ON_hour                 float64\n",
       "WHEELS_ON_mins                 float64\n",
       "SCHEDULED_DEPARTURE_Abstime      int64\n",
       "DEPARTURE_TIME_Abstime         float64\n",
       "SCHEDULED_ARRIVAL_Abstime        int64\n",
       "ARRIVAL_TIME_Abstime           float64\n",
       "WHEELS_OFF_Abstime             float64\n",
       "WHEELS_ON_Abstime              float64\n",
       "FLIGHT_NUMBER                    int64\n",
       "dtype: object"
      ]
     },
     "execution_count": 7,
     "metadata": {},
     "output_type": "execute_result"
    }
   ],
   "source": [
    "train.dtypes"
   ]
  },
  {
   "cell_type": "code",
   "execution_count": 8,
   "metadata": {},
   "outputs": [],
   "source": [
    "from sklearn.preprocessing import StandardScaler"
   ]
  },
  {
   "cell_type": "code",
   "execution_count": 9,
   "metadata": {},
   "outputs": [],
   "source": [
    "scaler=StandardScaler()\n",
    "col=train.columns.difference(['ARRIVAL_DELAY']).values\n",
    "train=pd.concat([pd.DataFrame(scaler.fit_transform(train.drop('ARRIVAL_DELAY',axis=1)),columns=col),train['ARRIVAL_DELAY'].reset_index(drop=True)],axis=1)"
   ]
  },
  {
   "cell_type": "code",
   "execution_count": 10,
   "metadata": {},
   "outputs": [
    {
     "data": {
      "text/html": [
       "<div>\n",
       "<style scoped>\n",
       "    .dataframe tbody tr th:only-of-type {\n",
       "        vertical-align: middle;\n",
       "    }\n",
       "\n",
       "    .dataframe tbody tr th {\n",
       "        vertical-align: top;\n",
       "    }\n",
       "\n",
       "    .dataframe thead th {\n",
       "        text-align: right;\n",
       "    }\n",
       "</style>\n",
       "<table border=\"1\" class=\"dataframe\">\n",
       "  <thead>\n",
       "    <tr style=\"text-align: right;\">\n",
       "      <th></th>\n",
       "      <th>AIRLINE</th>\n",
       "      <th>AIR_TIME</th>\n",
       "      <th>ARRIVAL_TIME_Abstime</th>\n",
       "      <th>ARRIVAL_TIME_hour</th>\n",
       "      <th>ARRIVAL_TIME_mins</th>\n",
       "      <th>CANCELLED</th>\n",
       "      <th>DAY</th>\n",
       "      <th>DAY_OF_WEEK</th>\n",
       "      <th>DEPARTURE_DELAY</th>\n",
       "      <th>DEPARTURE_TIME_Abstime</th>\n",
       "      <th>...</th>\n",
       "      <th>SCHEDULED_TIME</th>\n",
       "      <th>TAXI_IN</th>\n",
       "      <th>TAXI_OUT</th>\n",
       "      <th>WHEELS_OFF_Abstime</th>\n",
       "      <th>WHEELS_OFF_hour</th>\n",
       "      <th>WHEELS_OFF_mins</th>\n",
       "      <th>WHEELS_ON_Abstime</th>\n",
       "      <th>WHEELS_ON_hour</th>\n",
       "      <th>WHEELS_ON_mins</th>\n",
       "      <th>ARRIVAL_DELAY</th>\n",
       "    </tr>\n",
       "  </thead>\n",
       "  <tbody>\n",
       "    <tr>\n",
       "      <th>0</th>\n",
       "      <td>-1.62228</td>\n",
       "      <td>-1.67413</td>\n",
       "      <td>0.036734</td>\n",
       "      <td>-1.242252</td>\n",
       "      <td>-1.260288</td>\n",
       "      <td>1.322161</td>\n",
       "      <td>-0.768576</td>\n",
       "      <td>0.842130</td>\n",
       "      <td>0.971371</td>\n",
       "      <td>0.881790</td>\n",
       "      <td>...</td>\n",
       "      <td>-2.005763</td>\n",
       "      <td>-1.500156</td>\n",
       "      <td>-2.761058</td>\n",
       "      <td>2.097280</td>\n",
       "      <td>-2.094500</td>\n",
       "      <td>-2.067792</td>\n",
       "      <td>-2.707988</td>\n",
       "      <td>-2.088297</td>\n",
       "      <td>-1.181000</td>\n",
       "      <td>-22.0</td>\n",
       "    </tr>\n",
       "    <tr>\n",
       "      <th>1</th>\n",
       "      <td>-1.62228</td>\n",
       "      <td>-1.67413</td>\n",
       "      <td>0.036734</td>\n",
       "      <td>-1.458026</td>\n",
       "      <td>0.248401</td>\n",
       "      <td>0.897604</td>\n",
       "      <td>-0.631276</td>\n",
       "      <td>-0.497999</td>\n",
       "      <td>2.052538</td>\n",
       "      <td>2.110881</td>\n",
       "      <td>...</td>\n",
       "      <td>-1.428723</td>\n",
       "      <td>0.406368</td>\n",
       "      <td>-2.743875</td>\n",
       "      <td>-2.726901</td>\n",
       "      <td>-1.437733</td>\n",
       "      <td>-1.390676</td>\n",
       "      <td>-2.711338</td>\n",
       "      <td>-1.405699</td>\n",
       "      <td>0.092716</td>\n",
       "      <td>-9.0</td>\n",
       "    </tr>\n",
       "    <tr>\n",
       "      <th>2</th>\n",
       "      <td>-1.62228</td>\n",
       "      <td>-1.67413</td>\n",
       "      <td>0.036734</td>\n",
       "      <td>0.915486</td>\n",
       "      <td>1.334657</td>\n",
       "      <td>-0.785457</td>\n",
       "      <td>-0.356676</td>\n",
       "      <td>0.097614</td>\n",
       "      <td>2.139032</td>\n",
       "      <td>2.313319</td>\n",
       "      <td>...</td>\n",
       "      <td>-1.236377</td>\n",
       "      <td>-1.731250</td>\n",
       "      <td>-2.709509</td>\n",
       "      <td>-2.672999</td>\n",
       "      <td>-1.385192</td>\n",
       "      <td>-1.295308</td>\n",
       "      <td>-2.644333</td>\n",
       "      <td>-1.331991</td>\n",
       "      <td>-0.758705</td>\n",
       "      <td>5.0</td>\n",
       "    </tr>\n",
       "    <tr>\n",
       "      <th>3</th>\n",
       "      <td>-1.62228</td>\n",
       "      <td>-1.67413</td>\n",
       "      <td>0.036734</td>\n",
       "      <td>-1.458026</td>\n",
       "      <td>0.248401</td>\n",
       "      <td>0.609513</td>\n",
       "      <td>-0.493976</td>\n",
       "      <td>-0.051289</td>\n",
       "      <td>2.124616</td>\n",
       "      <td>2.139800</td>\n",
       "      <td>...</td>\n",
       "      <td>-1.428723</td>\n",
       "      <td>1.041876</td>\n",
       "      <td>-2.709509</td>\n",
       "      <td>-2.683106</td>\n",
       "      <td>-1.388476</td>\n",
       "      <td>-1.342992</td>\n",
       "      <td>-2.657734</td>\n",
       "      <td>-1.370447</td>\n",
       "      <td>-1.089939</td>\n",
       "      <td>-9.0</td>\n",
       "    </tr>\n",
       "    <tr>\n",
       "      <th>4</th>\n",
       "      <td>-1.62228</td>\n",
       "      <td>-1.67413</td>\n",
       "      <td>0.036734</td>\n",
       "      <td>-1.242252</td>\n",
       "      <td>1.319570</td>\n",
       "      <td>-1.255502</td>\n",
       "      <td>-0.310909</td>\n",
       "      <td>-0.646902</td>\n",
       "      <td>1.403838</td>\n",
       "      <td>1.185448</td>\n",
       "      <td>...</td>\n",
       "      <td>-2.390455</td>\n",
       "      <td>1.388517</td>\n",
       "      <td>-2.692327</td>\n",
       "      <td>-2.652786</td>\n",
       "      <td>-2.324368</td>\n",
       "      <td>-2.287140</td>\n",
       "      <td>-2.640983</td>\n",
       "      <td>-2.312626</td>\n",
       "      <td>-1.159942</td>\n",
       "      <td>-21.0</td>\n",
       "    </tr>\n",
       "  </tbody>\n",
       "</table>\n",
       "<p>5 rows × 35 columns</p>\n",
       "</div>"
      ],
      "text/plain": [
       "   AIRLINE  AIR_TIME  ARRIVAL_TIME_Abstime  ARRIVAL_TIME_hour  \\\n",
       "0 -1.62228  -1.67413              0.036734          -1.242252   \n",
       "1 -1.62228  -1.67413              0.036734          -1.458026   \n",
       "2 -1.62228  -1.67413              0.036734           0.915486   \n",
       "3 -1.62228  -1.67413              0.036734          -1.458026   \n",
       "4 -1.62228  -1.67413              0.036734          -1.242252   \n",
       "\n",
       "   ARRIVAL_TIME_mins  CANCELLED       DAY  DAY_OF_WEEK  DEPARTURE_DELAY  \\\n",
       "0          -1.260288   1.322161 -0.768576     0.842130         0.971371   \n",
       "1           0.248401   0.897604 -0.631276    -0.497999         2.052538   \n",
       "2           1.334657  -0.785457 -0.356676     0.097614         2.139032   \n",
       "3           0.248401   0.609513 -0.493976    -0.051289         2.124616   \n",
       "4           1.319570  -1.255502 -0.310909    -0.646902         1.403838   \n",
       "\n",
       "   DEPARTURE_TIME_Abstime      ...        SCHEDULED_TIME   TAXI_IN  TAXI_OUT  \\\n",
       "0                0.881790      ...             -2.005763 -1.500156 -2.761058   \n",
       "1                2.110881      ...             -1.428723  0.406368 -2.743875   \n",
       "2                2.313319      ...             -1.236377 -1.731250 -2.709509   \n",
       "3                2.139800      ...             -1.428723  1.041876 -2.709509   \n",
       "4                1.185448      ...             -2.390455  1.388517 -2.692327   \n",
       "\n",
       "   WHEELS_OFF_Abstime  WHEELS_OFF_hour  WHEELS_OFF_mins  WHEELS_ON_Abstime  \\\n",
       "0            2.097280        -2.094500        -2.067792          -2.707988   \n",
       "1           -2.726901        -1.437733        -1.390676          -2.711338   \n",
       "2           -2.672999        -1.385192        -1.295308          -2.644333   \n",
       "3           -2.683106        -1.388476        -1.342992          -2.657734   \n",
       "4           -2.652786        -2.324368        -2.287140          -2.640983   \n",
       "\n",
       "   WHEELS_ON_hour  WHEELS_ON_mins  ARRIVAL_DELAY  \n",
       "0       -2.088297       -1.181000          -22.0  \n",
       "1       -1.405699        0.092716           -9.0  \n",
       "2       -1.331991       -0.758705            5.0  \n",
       "3       -1.370447       -1.089939           -9.0  \n",
       "4       -2.312626       -1.159942          -21.0  \n",
       "\n",
       "[5 rows x 35 columns]"
      ]
     },
     "execution_count": 10,
     "metadata": {},
     "output_type": "execute_result"
    }
   ],
   "source": [
    "train.head()"
   ]
  },
  {
   "cell_type": "code",
   "execution_count": 11,
   "metadata": {},
   "outputs": [],
   "source": [
    "X = train.drop(['ARRIVAL_DELAY'], axis=1)\n",
    "y = train['ARRIVAL_DELAY']"
   ]
  },
  {
   "cell_type": "code",
   "execution_count": 12,
   "metadata": {},
   "outputs": [],
   "source": [
    "#Creating a training set for modeling and validation set to check model performance\n",
    "\n",
    "from sklearn.model_selection import train_test_split\n",
    "X_train, X_validation, y_train, y_validation = train_test_split(X, y, train_size=0.7,test_size=0.3,random_state=1234)"
   ]
  },
  {
   "cell_type": "code",
   "execution_count": 13,
   "metadata": {},
   "outputs": [],
   "source": [
    "from lightgbm import LGBMRegressor"
   ]
  },
  {
   "cell_type": "code",
   "execution_count": 14,
   "metadata": {},
   "outputs": [
    {
     "data": {
      "text/plain": [
       "LGBMRegressor(boosting_type='gbdt', class_weight=None, colsample_bytree=1.0,\n",
       "       importance_type='split', learning_rate=0.1, max_depth=-1,\n",
       "       min_child_samples=20, min_child_weight=0.001, min_split_gain=0.0,\n",
       "       n_estimators=200, n_jobs=-1, num_leaves=31, objective=None,\n",
       "       random_state=None, reg_alpha=0.0, reg_lambda=0.0, silent=True,\n",
       "       subsample=1.0, subsample_for_bin=200000, subsample_freq=0)"
      ]
     },
     "execution_count": 14,
     "metadata": {},
     "output_type": "execute_result"
    }
   ],
   "source": [
    "light=LGBMRegressor(n_estimators=200,)\n",
    "light.fit(X_train, y_train)"
   ]
  },
  {
   "cell_type": "code",
   "execution_count": 15,
   "metadata": {},
   "outputs": [],
   "source": [
    "from sklearn import metrics"
   ]
  },
  {
   "cell_type": "code",
   "execution_count": 16,
   "metadata": {},
   "outputs": [
    {
     "name": "stdout",
     "output_type": "stream",
     "text": [
      "7.50169969025165 Rmse on Training Data \n",
      "0.9207948862190398  Score on Training Data\n"
     ]
    }
   ],
   "source": [
    "y_pred_t = light.predict(X_train)\n",
    "rmse_t_1=np.sqrt( metrics.mean_squared_error( y_train, y_pred_t) )\n",
    "print (rmse_t_1,\"Rmse on Training Data \")\n",
    "print (metrics.r2_score( y_train, y_pred_t),\" Score on Training Data\")"
   ]
  },
  {
   "cell_type": "code",
   "execution_count": 17,
   "metadata": {},
   "outputs": [
    {
     "name": "stdout",
     "output_type": "stream",
     "text": [
      "7.6453793602781595 Rmse on /Original InverseBox Cox Transform variables \n",
      "0.9176226552195175 Rmse on /Original InverseBox Cox Transform variables \n"
     ]
    }
   ],
   "source": [
    "# Predicting on Testing Data With  the Model \n",
    "y_pred = light.predict(X_validation)\n",
    "rmse_1 = np.sqrt( metrics.mean_squared_error( y_validation, y_pred ) )\n",
    "print (rmse_1,\"Rmse on /Original InverseBox Cox Transform variables \")\n",
    "print (metrics.r2_score( y_validation, y_pred ),\"Rmse on /Original InverseBox Cox Transform variables \")"
   ]
  },
  {
   "cell_type": "code",
   "execution_count": 18,
   "metadata": {},
   "outputs": [
    {
     "name": "stderr",
     "output_type": "stream",
     "text": [
      "C:\\Users\\raghu\\Anaconda3\\lib\\site-packages\\matplotlib\\axes\\_axes.py:6462: UserWarning: The 'normed' kwarg is deprecated, and has been replaced by the 'density' kwarg.\n",
      "  warnings.warn(\"The 'normed' kwarg is deprecated, and has been \"\n"
     ]
    },
    {
     "data": {
      "text/plain": [
       "<matplotlib.axes._subplots.AxesSubplot at 0x18324d08048>"
      ]
     },
     "execution_count": 18,
     "metadata": {},
     "output_type": "execute_result"
    },
    {
     "data": {
      "image/png": "[encoded data removed]",
      "text/plain": [
       "<Figure size 432x288 with 1 Axes>"
      ]
     },
     "metadata": {},
     "output_type": "display_data"
    }
   ],
   "source": [
    "sns.distplot(train['ARRIVAL_DELAY'])"
   ]
  },
  {
   "cell_type": "code",
   "execution_count": 19,
   "metadata": {
    "scrolled": true
   },
   "outputs": [
    {
     "name": "stderr",
     "output_type": "stream",
     "text": [
      "C:\\Users\\raghu\\Anaconda3\\lib\\site-packages\\matplotlib\\axes\\_axes.py:6462: UserWarning: The 'normed' kwarg is deprecated, and has been replaced by the 'density' kwarg.\n",
      "  warnings.warn(\"The 'normed' kwarg is deprecated, and has been \"\n"
     ]
    },
    {
     "data": {
      "text/plain": [
       "<matplotlib.axes._subplots.AxesSubplot at 0x18326d92b00>"
      ]
     },
     "execution_count": 19,
     "metadata": {},
     "output_type": "execute_result"
    },
    {
     "data": {
      "image/png": "[encoded data removed]",
      "text/plain": [
       "<Figure size 432x288 with 1 Axes>"
      ]
     },
     "metadata": {},
     "output_type": "display_data"
    }
   ],
   "source": [
    "sns.distplot(light.predict(X))"
   ]
  },
  {
   "cell_type": "code",
   "execution_count": 20,
   "metadata": {},
   "outputs": [
    {
     "data": {
      "text/plain": [
       "16.94430682243702"
      ]
     },
     "execution_count": 20,
     "metadata": {},
     "output_type": "execute_result"
    }
   ],
   "source": [
    "np.sqrt(np.square(train['ARRIVAL_DELAY'])).mean()"
   ]
  },
  {
   "cell_type": "code",
   "execution_count": 21,
   "metadata": {},
   "outputs": [],
   "source": [
    "from sklearn.linear_model import LinearRegression"
   ]
  },
  {
   "cell_type": "code",
   "execution_count": 22,
   "metadata": {},
   "outputs": [],
   "source": [
    "linreg=LinearRegression()"
   ]
  },
  {
   "cell_type": "code",
   "execution_count": 29,
   "metadata": {},
   "outputs": [
    {
     "data": {
      "text/plain": [
       "LinearRegression(copy_X=True, fit_intercept=True, n_jobs=1, normalize=False)"
      ]
     },
     "execution_count": 29,
     "metadata": {},
     "output_type": "execute_result"
    }
   ],
   "source": [
    "linreg.fit(X_train, y_train)"
   ]
  },
  {
   "cell_type": "code",
   "execution_count": 30,
   "metadata": {},
   "outputs": [
    {
     "name": "stdout",
     "output_type": "stream",
     "text": [
      "15.189353592914419 Rmse on Training Data \n",
      "0.6752774432982113  Score on Training Data\n"
     ]
    }
   ],
   "source": [
    "y_pred_t = linreg.predict(X_train)\n",
    "rmse_t_1=np.sqrt( metrics.mean_squared_error( y_train, y_pred_t) )\n",
    "print (rmse_t_1,\"Rmse on Training Data \")\n",
    "print (metrics.r2_score( y_train, y_pred_t),\" Score on Training Data\")"
   ]
  },
  {
   "cell_type": "code",
   "execution_count": 31,
   "metadata": {},
   "outputs": [
    {
     "name": "stdout",
     "output_type": "stream",
     "text": [
      "15.161213415127651 Rmse on /Original InverseBox Cox Transform variables \n",
      "0.67605026269665 Rmse on /Original InverseBox Cox Transform variables \n"
     ]
    }
   ],
   "source": [
    "# Predicting on Testing Data With  the Model \n",
    "y_pred = linreg.predict(X_validation)\n",
    "rmse_1 = np.sqrt( metrics.mean_squared_error( y_validation, y_pred ) )\n",
    "print (rmse_1,\"Rmse on /Original InverseBox Cox Transform variables \")\n",
    "print (metrics.r2_score( y_validation, y_pred ),\"Rmse on /Original InverseBox Cox Transform variables \")"
   ]
  },
  {
   "cell_type": "code",
   "execution_count": 32,
   "metadata": {},
   "outputs": [
    {
     "data": {
      "text/plain": [
       "Index(['AIRLINE', 'AIR_TIME', 'ARRIVAL_TIME_Abstime', 'ARRIVAL_TIME_hour',\n",
       "       'ARRIVAL_TIME_mins', 'CANCELLED', 'DAY', 'DAY_OF_WEEK',\n",
       "       'DEPARTURE_DELAY', 'DEPARTURE_TIME_Abstime', 'DEPARTURE_TIME_hour',\n",
       "       'DEPARTURE_TIME_mins', 'DESTINATION_AIRPORT', 'DISTANCE', 'DIVERTED',\n",
       "       'ELAPSED_TIME', 'FLIGHT_NUMBER', 'MONTH', 'ORIGIN_AIRPORT',\n",
       "       'SCHEDULED_ARRIVAL_Abstime', 'SCHEDULED_ARRIVAL_hour',\n",
       "       'SCHEDULED_ARRIVAL_mins', 'SCHEDULED_DEPARTURE_Abstime',\n",
       "       'SCHEDULED_DEPARTURE_hour', 'SCHEDULED_DEPARTURE_mins',\n",
       "       'SCHEDULED_TIME', 'TAXI_IN', 'TAXI_OUT', 'WHEELS_OFF_Abstime',\n",
       "       'WHEELS_OFF_hour', 'WHEELS_OFF_mins', 'WHEELS_ON_Abstime',\n",
       "       'WHEELS_ON_hour', 'WHEELS_ON_mins'],\n",
       "      dtype='object')"
      ]
     },
     "execution_count": 32,
     "metadata": {},
     "output_type": "execute_result"
    }
   ],
   "source": [
    "X_train.columns"
   ]
  },
  {
   "cell_type": "code",
   "execution_count": 37,
   "metadata": {},
   "outputs": [
    {
     "data": {
      "text/html": [
       "<div>\n",
       "<style scoped>\n",
       "    .dataframe tbody tr th:only-of-type {\n",
       "        vertical-align: middle;\n",
       "    }\n",
       "\n",
       "    .dataframe tbody tr th {\n",
       "        vertical-align: top;\n",
       "    }\n",
       "\n",
       "    .dataframe thead th {\n",
       "        text-align: right;\n",
       "    }\n",
       "</style>\n",
       "<table border=\"1\" class=\"dataframe\">\n",
       "  <thead>\n",
       "    <tr style=\"text-align: right;\">\n",
       "      <th></th>\n",
       "      <th>AIRLINE</th>\n",
       "      <th>AIR_TIME</th>\n",
       "      <th>ARRIVAL_TIME_Abstime</th>\n",
       "      <th>ARRIVAL_TIME_hour</th>\n",
       "      <th>ARRIVAL_TIME_mins</th>\n",
       "      <th>CANCELLED</th>\n",
       "      <th>DAY</th>\n",
       "      <th>DAY_OF_WEEK</th>\n",
       "      <th>DEPARTURE_DELAY</th>\n",
       "      <th>DEPARTURE_TIME_Abstime</th>\n",
       "      <th>...</th>\n",
       "      <th>SCHEDULED_TIME</th>\n",
       "      <th>TAXI_IN</th>\n",
       "      <th>TAXI_OUT</th>\n",
       "      <th>WHEELS_OFF_Abstime</th>\n",
       "      <th>WHEELS_OFF_hour</th>\n",
       "      <th>WHEELS_OFF_mins</th>\n",
       "      <th>WHEELS_ON_Abstime</th>\n",
       "      <th>WHEELS_ON_hour</th>\n",
       "      <th>WHEELS_ON_mins</th>\n",
       "      <th>ARRIVAL_DELAY</th>\n",
       "    </tr>\n",
       "  </thead>\n",
       "  <tbody>\n",
       "    <tr>\n",
       "      <th>0</th>\n",
       "      <td>-1.62228</td>\n",
       "      <td>-1.67413</td>\n",
       "      <td>0.036734</td>\n",
       "      <td>-1.242252</td>\n",
       "      <td>-1.260288</td>\n",
       "      <td>1.322161</td>\n",
       "      <td>-0.768576</td>\n",
       "      <td>0.842130</td>\n",
       "      <td>0.971371</td>\n",
       "      <td>0.881790</td>\n",
       "      <td>...</td>\n",
       "      <td>-2.005763</td>\n",
       "      <td>-1.500156</td>\n",
       "      <td>-2.761058</td>\n",
       "      <td>2.097280</td>\n",
       "      <td>-2.094500</td>\n",
       "      <td>-2.067792</td>\n",
       "      <td>-2.707988</td>\n",
       "      <td>-2.088297</td>\n",
       "      <td>-1.181000</td>\n",
       "      <td>-22.0</td>\n",
       "    </tr>\n",
       "    <tr>\n",
       "      <th>1</th>\n",
       "      <td>-1.62228</td>\n",
       "      <td>-1.67413</td>\n",
       "      <td>0.036734</td>\n",
       "      <td>-1.458026</td>\n",
       "      <td>0.248401</td>\n",
       "      <td>0.897604</td>\n",
       "      <td>-0.631276</td>\n",
       "      <td>-0.497999</td>\n",
       "      <td>2.052538</td>\n",
       "      <td>2.110881</td>\n",
       "      <td>...</td>\n",
       "      <td>-1.428723</td>\n",
       "      <td>0.406368</td>\n",
       "      <td>-2.743875</td>\n",
       "      <td>-2.726901</td>\n",
       "      <td>-1.437733</td>\n",
       "      <td>-1.390676</td>\n",
       "      <td>-2.711338</td>\n",
       "      <td>-1.405699</td>\n",
       "      <td>0.092716</td>\n",
       "      <td>-9.0</td>\n",
       "    </tr>\n",
       "    <tr>\n",
       "      <th>2</th>\n",
       "      <td>-1.62228</td>\n",
       "      <td>-1.67413</td>\n",
       "      <td>0.036734</td>\n",
       "      <td>0.915486</td>\n",
       "      <td>1.334657</td>\n",
       "      <td>-0.785457</td>\n",
       "      <td>-0.356676</td>\n",
       "      <td>0.097614</td>\n",
       "      <td>2.139032</td>\n",
       "      <td>2.313319</td>\n",
       "      <td>...</td>\n",
       "      <td>-1.236377</td>\n",
       "      <td>-1.731250</td>\n",
       "      <td>-2.709509</td>\n",
       "      <td>-2.672999</td>\n",
       "      <td>-1.385192</td>\n",
       "      <td>-1.295308</td>\n",
       "      <td>-2.644333</td>\n",
       "      <td>-1.331991</td>\n",
       "      <td>-0.758705</td>\n",
       "      <td>5.0</td>\n",
       "    </tr>\n",
       "    <tr>\n",
       "      <th>3</th>\n",
       "      <td>-1.62228</td>\n",
       "      <td>-1.67413</td>\n",
       "      <td>0.036734</td>\n",
       "      <td>-1.458026</td>\n",
       "      <td>0.248401</td>\n",
       "      <td>0.609513</td>\n",
       "      <td>-0.493976</td>\n",
       "      <td>-0.051289</td>\n",
       "      <td>2.124616</td>\n",
       "      <td>2.139800</td>\n",
       "      <td>...</td>\n",
       "      <td>-1.428723</td>\n",
       "      <td>1.041876</td>\n",
       "      <td>-2.709509</td>\n",
       "      <td>-2.683106</td>\n",
       "      <td>-1.388476</td>\n",
       "      <td>-1.342992</td>\n",
       "      <td>-2.657734</td>\n",
       "      <td>-1.370447</td>\n",
       "      <td>-1.089939</td>\n",
       "      <td>-9.0</td>\n",
       "    </tr>\n",
       "    <tr>\n",
       "      <th>4</th>\n",
       "      <td>-1.62228</td>\n",
       "      <td>-1.67413</td>\n",
       "      <td>0.036734</td>\n",
       "      <td>-1.242252</td>\n",
       "      <td>1.319570</td>\n",
       "      <td>-1.255502</td>\n",
       "      <td>-0.310909</td>\n",
       "      <td>-0.646902</td>\n",
       "      <td>1.403838</td>\n",
       "      <td>1.185448</td>\n",
       "      <td>...</td>\n",
       "      <td>-2.390455</td>\n",
       "      <td>1.388517</td>\n",
       "      <td>-2.692327</td>\n",
       "      <td>-2.652786</td>\n",
       "      <td>-2.324368</td>\n",
       "      <td>-2.287140</td>\n",
       "      <td>-2.640983</td>\n",
       "      <td>-2.312626</td>\n",
       "      <td>-1.159942</td>\n",
       "      <td>-21.0</td>\n",
       "    </tr>\n",
       "  </tbody>\n",
       "</table>\n",
       "<p>5 rows × 35 columns</p>\n",
       "</div>"
      ],
      "text/plain": [
       "   AIRLINE  AIR_TIME  ARRIVAL_TIME_Abstime  ARRIVAL_TIME_hour  \\\n",
       "0 -1.62228  -1.67413              0.036734          -1.242252   \n",
       "1 -1.62228  -1.67413              0.036734          -1.458026   \n",
       "2 -1.62228  -1.67413              0.036734           0.915486   \n",
       "3 -1.62228  -1.67413              0.036734          -1.458026   \n",
       "4 -1.62228  -1.67413              0.036734          -1.242252   \n",
       "\n",
       "   ARRIVAL_TIME_mins  CANCELLED       DAY  DAY_OF_WEEK  DEPARTURE_DELAY  \\\n",
       "0          -1.260288   1.322161 -0.768576     0.842130         0.971371   \n",
       "1           0.248401   0.897604 -0.631276    -0.497999         2.052538   \n",
       "2           1.334657  -0.785457 -0.356676     0.097614         2.139032   \n",
       "3           0.248401   0.609513 -0.493976    -0.051289         2.124616   \n",
       "4           1.319570  -1.255502 -0.310909    -0.646902         1.403838   \n",
       "\n",
       "   DEPARTURE_TIME_Abstime      ...        SCHEDULED_TIME   TAXI_IN  TAXI_OUT  \\\n",
       "0                0.881790      ...             -2.005763 -1.500156 -2.761058   \n",
       "1                2.110881      ...             -1.428723  0.406368 -2.743875   \n",
       "2                2.313319      ...             -1.236377 -1.731250 -2.709509   \n",
       "3                2.139800      ...             -1.428723  1.041876 -2.709509   \n",
       "4                1.185448      ...             -2.390455  1.388517 -2.692327   \n",
       "\n",
       "   WHEELS_OFF_Abstime  WHEELS_OFF_hour  WHEELS_OFF_mins  WHEELS_ON_Abstime  \\\n",
       "0            2.097280        -2.094500        -2.067792          -2.707988   \n",
       "1           -2.726901        -1.437733        -1.390676          -2.711338   \n",
       "2           -2.672999        -1.385192        -1.295308          -2.644333   \n",
       "3           -2.683106        -1.388476        -1.342992          -2.657734   \n",
       "4           -2.652786        -2.324368        -2.287140          -2.640983   \n",
       "\n",
       "   WHEELS_ON_hour  WHEELS_ON_mins  ARRIVAL_DELAY  \n",
       "0       -2.088297       -1.181000          -22.0  \n",
       "1       -1.405699        0.092716           -9.0  \n",
       "2       -1.331991       -0.758705            5.0  \n",
       "3       -1.370447       -1.089939           -9.0  \n",
       "4       -2.312626       -1.159942          -21.0  \n",
       "\n",
       "[5 rows x 35 columns]"
      ]
     },
     "execution_count": 37,
     "metadata": {},
     "output_type": "execute_result"
    }
   ],
   "source": [
    "train[0:5]"
   ]
  },
  {
   "cell_type": "code",
   "execution_count": 36,
   "metadata": {},
   "outputs": [
    {
     "data": {
      "text/plain": [
       "array([-17.17449685, -11.77630913,   4.97437143,  -7.95949454,\n",
       "       -19.98302087])"
      ]
     },
     "execution_count": 36,
     "metadata": {},
     "output_type": "execute_result"
    }
   ],
   "source": [
    "light.predict(train[0:5].drop('ARRIVAL_DELAY',axis=1))"
   ]
  },
  {
   "cell_type": "code",
   "execution_count": null,
   "metadata": {},
   "outputs": [],
   "source": []
  }
 ],
 "metadata": {
  "kernelspec": {
   "display_name": "Python 3",
   "language": "python",
   "name": "python3"
  },
  "language_info": {
   "codemirror_mode": {
    "name": "ipython",
    "version": 3
   },
   "file_extension": ".py",
   "mimetype": "text/x-python",
   "name": "python",
   "nbconvert_exporter": "python",
   "pygments_lexer": "ipython3",
   "version": "3.6.5"
  }
 },
 "nbformat": 4,
 "nbformat_minor": 2
}
